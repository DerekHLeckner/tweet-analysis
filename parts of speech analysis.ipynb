{
 "cells": [
  {
   "cell_type": "code",
   "execution_count": null,
   "id": "9836d451",
   "metadata": {},
   "outputs": [],
   "source": [
    "import pandas as pd\n",
    "import spacy\n",
    "import seaborn as sns\n",
    "import numpy as np\n",
    "import re\n",
    "from collections import Counter\n",
    "import matplotlib.pyplot as plt\n",
    "import matplotlib.ticker as ticker\n",
    "import numpy as np\n",
    "import pandas as pd\n",
    "\n",
    "nlp = spacy.load(\"en_core_web_sm\")\n",
    "\n",
    "\n",
    "import pandas as pd\n",
    "df = pd.read_csv('social_media_augmented_dataset.csv')"
   ]
  },
  {
   "cell_type": "code",
   "execution_count": null,
   "id": "678cc4c6",
   "metadata": {},
   "outputs": [],
   "source": [
    "def extract_keywords(tweet):\n",
    "    doc = nlp(tweet)\n",
    "    keywords = [token.pos_ for token in doc if not token.is_stop and not token.is_punct and token.text.strip()]\n",
    "    return keywords\n",
    "df['part_of_speech'] = list(df['cleaned_tweet'].apply(extract_keywords))"
   ]
  },
  {
   "cell_type": "code",
   "execution_count": null,
   "id": "c06eb9e6",
   "metadata": {},
   "outputs": [],
   "source": [
    "word_counter_list = []\n",
    "for i in range(len(df)):\n",
    "    word_counter_list.append(dict(Counter(df['part_of_speech'][i])))\n",
    "    word_counter_list[i]['subjectivity_label'] = df['subjectivity_label'][i]\n",
    "    word_counter_list[i]['expert_label'] = df['expert_label'][i]"
   ]
  },
  {
   "cell_type": "code",
   "execution_count": null,
   "id": "4a29a612",
   "metadata": {},
   "outputs": [],
   "source": [
    "word_counter_df = pd.DataFrame(word_counter_list)"
   ]
  },
  {
   "cell_type": "code",
   "execution_count": null,
   "id": "bd288f24",
   "metadata": {},
   "outputs": [],
   "source": [
    "word_counter_df.fillna(0, inplace = True)"
   ]
  },
  {
   "cell_type": "code",
   "execution_count": null,
   "id": "6e2e00db",
   "metadata": {},
   "outputs": [],
   "source": [
    "for item in word_counter_df.drop(columns=['subjectivity_label', 'expert_label']).columns:\n",
    "\n",
    "    plt.title(f'Inclusion of {item} in Tweets between those labeled Subjective and Objective')\n",
    "  # Set figure size and spacing\n",
    "\n",
    "    ax = sns.violinplot(x='subjectivity_label', y=item, data=word_counter_df,  hue=\"expert_label\")\n",
    "    ax.set_ylabel(\"Count of Numbers in a Given Tweet\")\n",
    "    ax.set_xlabel(\"Subjectivity Label\")\n",
    "\n",
    "\n",
    "    plt.show()"
   ]
  }
 ],
 "metadata": {
  "kernelspec": {
   "display_name": "Python 3 (ipykernel)",
   "language": "python",
   "name": "python3"
  },
  "language_info": {
   "codemirror_mode": {
    "name": "ipython",
    "version": 3
   },
   "file_extension": ".py",
   "mimetype": "text/x-python",
   "name": "python",
   "nbconvert_exporter": "python",
   "pygments_lexer": "ipython3",
   "version": "3.9.16"
  }
 },
 "nbformat": 4,
 "nbformat_minor": 5
}
